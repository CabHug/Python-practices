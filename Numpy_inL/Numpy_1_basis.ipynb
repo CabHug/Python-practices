{
 "cells": [
  {
   "cell_type": "code",
   "execution_count": 1,
   "id": "adfb7e13-8073-4e16-81f8-795de87807ac",
   "metadata": {},
   "outputs": [
    {
     "name": "stdout",
     "output_type": "stream",
     "text": [
      "Hellow Numpy\n"
     ]
    }
   ],
   "source": [
    "print(\"Hellow Numpy\")"
   ]
  },
  {
   "cell_type": "markdown",
   "id": "c6d2c46c-f249-4b5a-8986-1e9e053726cc",
   "metadata": {},
   "source": [
    "# Array types and conversion between them"
   ]
  },
  {
   "cell_type": "code",
   "execution_count": 2,
   "id": "54a6ae9d-00ca-4b38-b332-0da15239a1f0",
   "metadata": {},
   "outputs": [
    {
     "name": "stdout",
     "output_type": "stream",
     "text": [
      "[1 2 3 4 5 6]\n"
     ]
    }
   ],
   "source": [
    "import numpy as np\n",
    "\n",
    "integers = np.array([1,2,3,4,5,6])\n",
    "print(integers)"
   ]
  },
  {
   "cell_type": "code",
   "execution_count": 5,
   "id": "f5eff5b0-fda0-4661-9b2f-f3972f6268e3",
   "metadata": {},
   "outputs": [
    {
     "name": "stdout",
     "output_type": "stream",
     "text": [
      "View by index: 100\n"
     ]
    },
    {
     "data": {
      "text/plain": [
       "array([  1, 100,   3,   4,   5,   6])"
      ]
     },
     "execution_count": 5,
     "metadata": {},
     "output_type": "execute_result"
    }
   ],
   "source": [
    "# Accessing by index to integers array\n",
    "# Numpy arrays are zero based\n",
    "print(\"View by index:\",integers[1])\n",
    "\n",
    "# Assigned a new value to an specific index\n",
    "integers[1] = 100\n",
    "integers"
   ]
  },
  {
   "cell_type": "code",
   "execution_count": 6,
   "id": "64bb41ca-78dd-4b36-8d71-179390bac080",
   "metadata": {},
   "outputs": [
    {
     "data": {
      "text/plain": [
       "array([  1, 100,   3,  25,   5,   6])"
      ]
     },
     "execution_count": 6,
     "metadata": {},
     "output_type": "execute_result"
    }
   ],
   "source": [
    "# On numpy all data has to be all the same type\n",
    "# for example we try to add a float number to integers array\n",
    "integers[3] = 25.5\n",
    "# The new value will be trucated to 25\n",
    "integers"
   ]
  },
  {
   "cell_type": "code",
   "execution_count": 15,
   "id": "939f2d8f-a53a-4f9e-9aa4-99134bebfd31",
   "metadata": {},
   "outputs": [
    {
     "name": "stdout",
     "output_type": "stream",
     "text": [
      "int64\n",
      "Byte number for integers: 48\n",
      "int8\n",
      "Byte number for int8: 6\n"
     ]
    }
   ],
   "source": [
    "# .dtype to know the type of array\n",
    "print(integers.dtype)\n",
    "# the value int64 refers to the number of allowed bytes\n",
    "\n",
    "# for example:\n",
    "print(\"Byte number for integers:\", integers.nbytes)\n",
    "\n",
    "# but if we create a low level array, for example\n",
    "smallerInteger = np.array(integers, dtype=np.int8)\n",
    "print(smallerInteger.dtype)\n",
    "\n",
    "print(\"Byte number for int8:\", smallerInteger.nbytes)"
   ]
  },
  {
   "cell_type": "markdown",
   "id": "fa82ccec-e4fe-4826-9393-4a538c6b38bf",
   "metadata": {},
   "source": [
    "# Multidimencional arrays"
   ]
  },
  {
   "cell_type": "code",
   "execution_count": 25,
   "id": "91a77825-bb97-433f-80a4-dc71bfe36873",
   "metadata": {},
   "outputs": [
    {
     "name": "stdout",
     "output_type": "stream",
     "text": [
      "[[1 2 3 4 5]\n",
      " [6 7 8 9 0]]\n",
      "Row 0 - Colum 0, value: 1\n",
      "Number of dimentions: 2\n",
      "[[[ 1  2  3]\n",
      "  [ 4  5  6]]\n",
      "\n",
      " [[ 7  8  9]\n",
      "  [10 11 12]]]\n",
      "eje0 0 - eje1 1 - eje2 2, value: 6\n",
      "Number of dimentions: 3\n"
     ]
    }
   ],
   "source": [
    "# inside Numpy we can find differen dimentional arrays\n",
    "\"\"\"\n",
    "1D is a Vecto\n",
    "2D is an array\n",
    "3D o more is a tensor\n",
    "\"\"\"\n",
    "\n",
    "import numpy as np\n",
    "# I've defined as 2D array \n",
    "numbers = np.array([[1,2,3,4,5],[6,7,8,9,0]])\n",
    "print(numbers)\n",
    "\n",
    "# I can acces to a specific value by index\n",
    "print(\"Row 0 - Colum 0, value:\",numbers[0,0])\n",
    "\n",
    "# I can know the number of dimentions of the numbers array using .ndim method\n",
    "print(\"Number of dimentions:\",numbers.ndim)\n",
    "\n",
    "# I can create a 3D array\n",
    "numbers_3D = np.array([[[1,2,3],[4,5,6]],[[7,8,9],[10,11,12]]])\n",
    "print(numbers_3D)\n",
    "\n",
    "# I can acces to a specific value by index\n",
    "print(\"eje0 0 - eje1 1 - eje2 2, value:\",numbers_3D[0,1,2])\n",
    "\n",
    "# I can know the number of dimentions of the numbers array using .ndim method\n",
    "print(\"Number of dimentions:\",numbers_3D.ndim)"
   ]
  },
  {
   "cell_type": "markdown",
   "id": "ff26b347-1013-4a42-b2ee-9e8c61aae219",
   "metadata": {},
   "source": [
    "# Creating arrays from List and other python structures"
   ]
  },
  {
   "cell_type": "code",
   "execution_count": 1,
   "id": "09cace12-a2ec-4ca5-83f1-c5cd5313f9be",
   "metadata": {},
   "outputs": [],
   "source": [
    "import numpy as np"
   ]
  },
  {
   "cell_type": "code",
   "execution_count": 3,
   "id": "703a8271-0463-4344-8d28-62adeef1ad01",
   "metadata": {},
   "outputs": [
    {
     "name": "stdout",
     "output_type": "stream",
     "text": [
      "[1 2 3 4 5 6 7]\n"
     ]
    }
   ],
   "source": [
    "# create an array from a list\n",
    "list_1D = [1,2,3,4,5,6,7]\n",
    "list_1D_array = np.array(list_1D)\n",
    "print(list_1D_array)"
   ]
  },
  {
   "cell_type": "code",
   "execution_count": 4,
   "id": "28501218-7099-4d30-8296-3e57e6efb955",
   "metadata": {},
   "outputs": [
    {
     "name": "stdout",
     "output_type": "stream",
     "text": [
      "[[1 2 3 4]\n",
      " [5 6 7 8]]\n"
     ]
    }
   ],
   "source": [
    "# 2D array from python list\n",
    "list_2D = [[1,2,3,4],[5,6,7,8]]\n",
    "list_2D_array = np.array(list_2D)\n",
    "print(list_2D_array)"
   ]
  },
  {
   "cell_type": "code",
   "execution_count": 5,
   "id": "e7a9ad7e-8291-488a-bf31-c621c82db633",
   "metadata": {},
   "outputs": [
    {
     "name": "stdout",
     "output_type": "stream",
     "text": [
      "['1' '2' 'Hugo' '3' 'Andres']\n"
     ]
    }
   ],
   "source": [
    "# Numpy will put the data type tha generalice all data store in python structure, for example\n",
    "list_data = [1,2,'Hugo', 3, 'Andres']\n",
    "gen_array = np.array(list_data)\n",
    "print(gen_array)"
   ]
  },
  {
   "cell_type": "code",
   "execution_count": 7,
   "id": "3dafd024-0384-45f6-b85a-00a1573243ae",
   "metadata": {},
   "outputs": [
    {
     "name": "stdout",
     "output_type": "stream",
     "text": [
      "[1 2 3 4 5 6]\n"
     ]
    }
   ],
   "source": [
    "# Define an array from a tuple\n",
    "tuple_1D = (1,2,3,4,5,6)\n",
    "tuple_1D_array = np.array(tuple_1D)\n",
    "print(tuple_1D_array)"
   ]
  },
  {
   "cell_type": "code",
   "execution_count": 8,
   "id": "5b881c6f-96b3-4e6c-898b-e43bbff16844",
   "metadata": {},
   "outputs": [
    {
     "name": "stdout",
     "output_type": "stream",
     "text": [
      "[[1 2 3]\n",
      " [4 5 6]]\n"
     ]
    }
   ],
   "source": [
    "# Define an array from a tuple\n",
    "tuple_2D = ((1,2,3),(4,5,6))\n",
    "tuple_2D_array = np.array(tuple_2D)\n",
    "print(tuple_2D_array)"
   ]
  },
  {
   "cell_type": "code",
   "execution_count": 11,
   "id": "a7f9defb-20ae-4659-9df8-312f9d6921cb",
   "metadata": {},
   "outputs": [
    {
     "name": "stdout",
     "output_type": "stream",
     "text": [
      "['Hugo' '30']\n"
     ]
    }
   ],
   "source": [
    "# define an array from a dictionary, first we need to choose or the values o keys from the dictionary and after that\n",
    "# we need to change tha type to listo usng list() method of python\n",
    "dict_1D = {\n",
    "    'name': 'Hugo',\n",
    "    'age': 30\n",
    "          }\n",
    "dict_1D_array = np.array(list(dict_1D.values()))\n",
    "print(dict_1D_array)"
   ]
  },
  {
   "cell_type": "markdown",
   "id": "cb0582d5-e76f-417c-ac4a-911aaeb7d98a",
   "metadata": {},
   "source": [
    "# Intrinsic Numpy array creation\n",
    "Create an array manually can be tedius but we can use functions from Numpy to do that"
   ]
  },
  {
   "cell_type": "code",
   "execution_count": 13,
   "id": "ec774665-4e2c-4a7f-bf6b-f14118ce8aa3",
   "metadata": {},
   "outputs": [
    {
     "name": "stdout",
     "output_type": "stream",
     "text": [
      "[10 15 20 25 30 35 40 45 50 55 60 65 70 75]\n"
     ]
    }
   ],
   "source": [
    "# function arange(start, stop, step, like(data type), this function allow us to define a range of numbers as an array\n",
    "\n",
    "array_arange = np.arange(10, 80, 5)\n",
    "print(array_arange)"
   ]
  },
  {
   "cell_type": "code",
   "execution_count": 21,
   "id": "8dec5472-9106-4876-8a1c-8a4b1080df3f",
   "metadata": {},
   "outputs": [
    {
     "name": "stdout",
     "output_type": "stream",
     "text": [
      "[10.         14.44444444 18.88888889 23.33333333 27.77777778 32.22222222\n",
      " 36.66666667 41.11111111 45.55555556 50.        ]\n",
      "['10.0' '14.444444444444445' '18.88888888888889' '23.333333333333336'\n",
      " '27.77777777777778' '32.22222222222222' '36.66666666666667'\n",
      " '41.111111111111114' '45.55555555555556' '50.0']\n"
     ]
    }
   ],
   "source": [
    "# fucntion linspace(start, stop, num(number of items))\n",
    "# the numbers of items will be between the rang of start and stop\n",
    "# specially usefull when I need an array of floating numbers\n",
    "array_linspace = np.linspace(10, 50 , 10)\n",
    "print(array_linspace)\n",
    "\n",
    "# Also I can define the data type\n",
    "array_linspace_2 = np.linspace(10, 50 , 10, dtype=str)\n",
    "print(array_linspace_2)"
   ]
  },
  {
   "cell_type": "code",
   "execution_count": 27,
   "id": "9805d8c3-6e7b-4174-954f-0ce4eed83b8c",
   "metadata": {},
   "outputs": [
    {
     "name": "stdout",
     "output_type": "stream",
     "text": [
      "[0.04330343 0.22990403 0.15912521 0.68540625]\n",
      "[[0.26037141 0.93290893 0.73303803 0.6581537 ]\n",
      " [0.74030538 0.61380717 0.43552035 0.12111737]\n",
      " [0.03077793 0.35567994 0.36734167 0.48621474]\n",
      " [0.60667829 0.05442672 0.64034115 0.95496429]]\n"
     ]
    }
   ],
   "source": [
    "# Using random function method from Numpy this one allows generate an array with random values\n",
    "# .random.rand(4) -> will generate a 1D array with 4 floating random numbers\n",
    "\n",
    "random_array_1 = np.random.rand(4)\n",
    "print(random_array_1)\n",
    "\n",
    "# also I can create a Ndimentional array using random.rand()\n",
    "random_array_2 = np.random.rand(4, 4)\n",
    "print(random_array_2)"
   ]
  },
  {
   "cell_type": "code",
   "execution_count": 29,
   "id": "a5eb73ae-82f3-4f4a-89c1-4313baef9ecf",
   "metadata": {},
   "outputs": [
    {
     "name": "stdout",
     "output_type": "stream",
     "text": [
      "[13 14 14 15 30 19]\n",
      "[[11 10 14]\n",
      " [26 26 25]]\n"
     ]
    }
   ],
   "source": [
    "# In another hand random.randint(star, stop, num(number of items))\n",
    "# this method will generate a integer array between start and stop taking the number of values required\n",
    "\n",
    "random_array_2 = np.random.randint(10, 40, size=(6))\n",
    "print(random_array_2)\n",
    "\n",
    "# Also I can create a Ndimentional array with random.randint()\n",
    "random_array_3 = np.random.randint(10, 40, size=(2,3))\n",
    "print(random_array_3)"
   ]
  },
  {
   "cell_type": "markdown",
   "id": "b8959ef2-df08-4bd1-9e66-c5f11c396c2a",
   "metadata": {},
   "source": [
    "# Creating arrays filled with constant values"
   ]
  },
  {
   "cell_type": "code",
   "execution_count": 32,
   "id": "a41d9212-642b-4892-9f32-4f976317f7a7",
   "metadata": {},
   "outputs": [
    {
     "name": "stdout",
     "output_type": "stream",
     "text": [
      "[0. 0. 0. 0. 0.]\n",
      "[[0. 0. 0. 0. 0.]\n",
      " [0. 0. 0. 0. 0.]]\n"
     ]
    }
   ],
   "source": [
    "# Using .zeros method of Numpy\n",
    "\n",
    "zeros_array = np.zeros(5)\n",
    "print(zeros_array)\n",
    "\n",
    "zeros_array_2D = np.zeros((2,5))\n",
    "print(zeros_array_2D)"
   ]
  },
  {
   "cell_type": "code",
   "execution_count": 35,
   "id": "e71d8d86-719b-4c3e-916f-dd504bbe2d15",
   "metadata": {},
   "outputs": [
    {
     "name": "stdout",
     "output_type": "stream",
     "text": [
      "[1. 1. 1. 1. 1.]\n",
      "[[1 1]\n",
      " [1 1]\n",
      " [1 1]]\n"
     ]
    }
   ],
   "source": [
    "# Using .ones method from Numpy\n",
    "\n",
    "ones_array = np.ones(5)\n",
    "print(ones_array)\n",
    "\n",
    "# We can also define an arry fill of ones with 2D and a specific number of dimentions \n",
    "ones_array_2D = np.ones((3,2), dtype=int)\n",
    "print(ones_array_2D)"
   ]
  },
  {
   "cell_type": "code",
   "execution_count": null,
   "id": "036c279b-2908-4e0a-ba66-be4ba4b49210",
   "metadata": {},
   "outputs": [],
   "source": [
    "# full and fill functions\n",
    "\n",
    "# fill function is used to create one dimentional array\n",
    "# -> Also fill function alluws me to fill and existing array with similar values\n",
    "\n",
    "# full function is used to crate both 1D and 2D array\n",
    "\n"
   ]
  },
  {
   "cell_type": "code",
   "execution_count": 38,
   "id": "cf780d7a-1309-4a9b-aab9-d7082a8299f5",
   "metadata": {},
   "outputs": [
    {
     "name": "stdout",
     "output_type": "stream",
     "text": [
      "[0 0 0 0 0 0 0 0]\n",
      "[10 10 10 10 10 10 10 10]\n"
     ]
    }
   ],
   "source": [
    "# The fill function works filled an existing empty array\n",
    "\n",
    "first_fill_array = np.empty(8, dtype=int)\n",
    "print(first_fill_array)\n",
    "\n",
    "first_fill_array.fill(10)\n",
    "print(first_fill_array)"
   ]
  },
  {
   "cell_type": "code",
   "execution_count": 39,
   "id": "59d684c7-cb65-49a4-894e-72241258c79e",
   "metadata": {},
   "outputs": [
    {
     "name": "stdout",
     "output_type": "stream",
     "text": [
      "[[5 5 5]\n",
      " [5 5 5]\n",
      " [5 5 5]]\n"
     ]
    }
   ],
   "source": [
    "# .full((row, colum), number)\n",
    "\n",
    "first_full_array = np.full((3,3), 5)\n",
    "print(first_full_array)"
   ]
  },
  {
   "cell_type": "markdown",
   "id": "973abd54-d3ad-4c98-8bb7-3d756b90696e",
   "metadata": {},
   "source": [
    "# Findinf a shape and size of an array\n",
    "An array has 4 main caracteristica\n",
    "for example:\n",
    "[\n",
    "[1,2,3],\n",
    "[1,2,3]\n",
    "]\n",
    "\n",
    "dtype: refers to data type, in this case integer\n",
    "ndim: refers to number of dimentions\n",
    "size: refers to number of elemento in the array\n",
    "shape: refers to the number of dimentions of the array"
   ]
  },
  {
   "cell_type": "code",
   "execution_count": 44,
   "id": "a9bb8074-1fef-4b1e-962a-c5b63ce9aa76",
   "metadata": {},
   "outputs": [
    {
     "name": "stdout",
     "output_type": "stream",
     "text": [
      "[[17 27 18]\n",
      " [46 37 39]\n",
      " [18 16 37]]\n",
      "Array shape:  (3, 3)\n",
      "Array size:  9\n"
     ]
    }
   ],
   "source": [
    "# Shape\n",
    "\n",
    "array = np.random.randint(10, 50, (3,3))\n",
    "print(array)\n",
    "print(\"Array shape: \", array.shape) # number of dimentions\n",
    "print(\"Array size: \", array.size) # number of items"
   ]
  },
  {
   "cell_type": "markdown",
   "id": "82e62b58-7c2b-40fd-a869-dafd34f416dd",
   "metadata": {},
   "source": [
    "# Adding, removing and sorting elements"
   ]
  },
  {
   "cell_type": "code",
   "execution_count": 1,
   "id": "c1bc6255-a6db-4afa-81ba-5ffaf49e5db8",
   "metadata": {},
   "outputs": [
    {
     "name": "stdout",
     "output_type": "stream",
     "text": [
      "[1 2 3 4 5]\n"
     ]
    }
   ],
   "source": [
    "import numpy as np\n",
    "\n",
    "array = np.array([1,2,3,4,5])\n",
    "print(array)"
   ]
  },
  {
   "cell_type": "code",
   "execution_count": 2,
   "id": "2a870a4d-36c3-4bd2-b329-e9fb594e3ee2",
   "metadata": {},
   "outputs": [
    {
     "name": "stdout",
     "output_type": "stream",
     "text": [
      "[ 1  2  3 10 20  4  5]\n"
     ]
    }
   ],
   "source": [
    "# use of function .inser(array, index, data) -> this one insert the data in the specific index\n",
    "\n",
    "new_array = np.insert(array, 3, [10,20])\n",
    "print(new_array)"
   ]
  },
  {
   "cell_type": "code",
   "execution_count": 4,
   "id": "46f8a8b5-4a22-4bc0-962c-be3852640c0c",
   "metadata": {},
   "outputs": [
    {
     "name": "stdout",
     "output_type": "stream",
     "text": [
      "[6 7 8 9]\n",
      "[ 6  7  8  9 20 30]\n"
     ]
    }
   ],
   "source": [
    "# use of function .append(array, data) -> this one add data to the endo of array\n",
    "\n",
    "array_2 = np.array([6,7,8,9])\n",
    "print(array_2)\n",
    "\n",
    "new_array_2 = np.append(array_2, [20,30])\n",
    "print(new_array_2)"
   ]
  },
  {
   "cell_type": "code",
   "execution_count": 5,
   "id": "b10fa3c3-0dfd-4f73-a3c6-3bb7afa419f7",
   "metadata": {},
   "outputs": [
    {
     "name": "stdout",
     "output_type": "stream",
     "text": [
      "[10 20 30 40 50 60]\n",
      "[10 20 40 50 60]\n"
     ]
    }
   ],
   "source": [
    "# deleting data from an array .delete(array, index)\n",
    "\n",
    "array_3 = np.array([10,20,30,40,50,60])\n",
    "print(array_3)\n",
    "\n",
    "new_array_3 = np.delete(array_3, 2)\n",
    "print(new_array_3)"
   ]
  },
  {
   "cell_type": "code",
   "execution_count": 6,
   "id": "caa3d8e4-036f-47ee-9562-ef773b01bb27",
   "metadata": {},
   "outputs": [
    {
     "name": "stdout",
     "output_type": "stream",
     "text": [
      "[11 16 44 29 15 45 37 27 16 12]\n",
      "[11 12 15 16 16 27 29 37 44 45]\n"
     ]
    }
   ],
   "source": [
    "# sort function provides a copy of the given array but ordered\n",
    "\n",
    "int_array = np.random.randint(10,50,10)\n",
    "print(int_array)\n",
    "\n",
    "sort_int_array = np.sort(int_array)\n",
    "print(sort_int_array)"
   ]
  },
  {
   "cell_type": "code",
   "execution_count": 8,
   "id": "56aee684-0e85-4d7b-8304-489dcfdf2867",
   "metadata": {},
   "outputs": [
    {
     "name": "stdout",
     "output_type": "stream",
     "text": [
      "[[4 0 9]\n",
      " [4 4 7]\n",
      " [2 1 0]]\n",
      "[[0 4 9]\n",
      " [4 4 7]\n",
      " [0 1 2]]\n"
     ]
    }
   ],
   "source": [
    "# SORT function also can order 2D arrays\n",
    "\n",
    "int_array_2 = np.random.randint(0,10,[3,3])\n",
    "print(int_array_2)\n",
    "\n",
    "print(np.sort(int_array_2))"
   ]
  },
  {
   "cell_type": "code",
   "execution_count": 10,
   "id": "b0c1cb6f-b4d0-416d-8bd8-a75d4cd76603",
   "metadata": {},
   "outputs": [
    {
     "name": "stdout",
     "output_type": "stream",
     "text": [
      "['rojo' 'verde' 'azul' 'amarillo' 'morado']\n",
      "['amarillo' 'azul' 'morado' 'rojo' 'verde']\n"
     ]
    }
   ],
   "source": [
    "# Also SORT function can sort string content into an array\n",
    "\n",
    "colors = np.array(['rojo', 'verde', 'azul', 'amarillo', 'morado'])\n",
    "print(colors)\n",
    "\n",
    "print(np.sort(colors))"
   ]
  },
  {
   "cell_type": "markdown",
   "id": "2b4d4f49-3b73-43a6-b57e-c65f17c91451",
   "metadata": {},
   "source": [
    "# Copies and Views"
   ]
  },
  {
   "cell_type": "code",
   "execution_count": 15,
   "id": "a1c94a81-56bb-47b1-a1c2-e5c0fc17be54",
   "metadata": {},
   "outputs": [
    {
     "name": "stdout",
     "output_type": "stream",
     "text": [
      "Original: [0 1 2 3 4]\n",
      "View: [0 1 2 3 4]\n",
      "Original: [ 0  1 10  3  4]\n",
      "View: [ 0  1 10  3  4]\n",
      "Original: [ 0  1 10 50  4]\n",
      "View: [ 0  1 10 50  4]\n"
     ]
    }
   ],
   "source": [
    "# A view is a reference to the space memori where is located the original array\n",
    "\n",
    "org_array = np.arange(5)\n",
    "print(\"Original:\",org_array)\n",
    "\n",
    "view_array = org_array\n",
    "print(\"View:\",view_array)\n",
    "\n",
    "# A view allows see a change in the original array from the copy or a change prom the copy in the original array\n",
    "org_array[2] = 10\n",
    "print(\"Original:\",org_array)\n",
    "print(\"View:\",view_array)\n",
    "\n",
    "# change made in the view but orginal can reflect the change as well\n",
    "view_array[3] = 50\n",
    "print(\"Original:\",org_array)\n",
    "print(\"View:\",view_array)"
   ]
  }
 ],
 "metadata": {
  "kernelspec": {
   "display_name": "Python [conda env:base] *",
   "language": "python",
   "name": "conda-base-py"
  },
  "language_info": {
   "codemirror_mode": {
    "name": "ipython",
    "version": 3
   },
   "file_extension": ".py",
   "mimetype": "text/x-python",
   "name": "python",
   "nbconvert_exporter": "python",
   "pygments_lexer": "ipython3",
   "version": "3.13.5"
  }
 },
 "nbformat": 4,
 "nbformat_minor": 5
}
