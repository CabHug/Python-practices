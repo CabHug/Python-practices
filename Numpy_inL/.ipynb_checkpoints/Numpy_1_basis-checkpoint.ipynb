{
 "cells": [
  {
   "cell_type": "code",
   "execution_count": 1,
   "id": "adfb7e13-8073-4e16-81f8-795de87807ac",
   "metadata": {},
   "outputs": [
    {
     "name": "stdout",
     "output_type": "stream",
     "text": [
      "Hellow Numpy\n"
     ]
    }
   ],
   "source": [
    "print(\"Hellow Numpy\")"
   ]
  },
  {
   "cell_type": "markdown",
   "id": "c6d2c46c-f249-4b5a-8986-1e9e053726cc",
   "metadata": {},
   "source": [
    "# Array types and conversion between them"
   ]
  },
  {
   "cell_type": "code",
   "execution_count": 2,
   "id": "54a6ae9d-00ca-4b38-b332-0da15239a1f0",
   "metadata": {},
   "outputs": [
    {
     "name": "stdout",
     "output_type": "stream",
     "text": [
      "[1 2 3 4 5 6]\n"
     ]
    }
   ],
   "source": [
    "import numpy as np\n",
    "\n",
    "integers = np.array([1,2,3,4,5,6])\n",
    "print(integers)"
   ]
  },
  {
   "cell_type": "code",
   "execution_count": 5,
   "id": "f5eff5b0-fda0-4661-9b2f-f3972f6268e3",
   "metadata": {},
   "outputs": [
    {
     "name": "stdout",
     "output_type": "stream",
     "text": [
      "View by index: 100\n"
     ]
    },
    {
     "data": {
      "text/plain": [
       "array([  1, 100,   3,   4,   5,   6])"
      ]
     },
     "execution_count": 5,
     "metadata": {},
     "output_type": "execute_result"
    }
   ],
   "source": [
    "# Accessing by index to integers array\n",
    "# Numpy arrays are zero based\n",
    "print(\"View by index:\",integers[1])\n",
    "\n",
    "# Assigned a new value to an specific index\n",
    "integers[1] = 100\n",
    "integers"
   ]
  },
  {
   "cell_type": "code",
   "execution_count": 6,
   "id": "64bb41ca-78dd-4b36-8d71-179390bac080",
   "metadata": {},
   "outputs": [
    {
     "data": {
      "text/plain": [
       "array([  1, 100,   3,  25,   5,   6])"
      ]
     },
     "execution_count": 6,
     "metadata": {},
     "output_type": "execute_result"
    }
   ],
   "source": [
    "# On numpy all data has to be all the same type\n",
    "# for example we try to add a float number to integers array\n",
    "integers[3] = 25.5\n",
    "# The new value will be trucated to 25\n",
    "integers"
   ]
  },
  {
   "cell_type": "code",
   "execution_count": 15,
   "id": "939f2d8f-a53a-4f9e-9aa4-99134bebfd31",
   "metadata": {},
   "outputs": [
    {
     "name": "stdout",
     "output_type": "stream",
     "text": [
      "int64\n",
      "Byte number for integers: 48\n",
      "int8\n",
      "Byte number for int8: 6\n"
     ]
    }
   ],
   "source": [
    "# .dtype to know the type of array\n",
    "print(integers.dtype)\n",
    "# the value int64 refers to the number of allowed bytes\n",
    "\n",
    "# for example:\n",
    "print(\"Byte number for integers:\", integers.nbytes)\n",
    "\n",
    "# but if we create a low level array, for example\n",
    "smallerInteger = np.array(integers, dtype=np.int8)\n",
    "print(smallerInteger.dtype)\n",
    "\n",
    "print(\"Byte number for int8:\", smallerInteger.nbytes)"
   ]
  },
  {
   "cell_type": "markdown",
   "id": "fa82ccec-e4fe-4826-9393-4a538c6b38bf",
   "metadata": {},
   "source": [
    "# Multidimencional arrays"
   ]
  },
  {
   "cell_type": "code",
   "execution_count": 25,
   "id": "91a77825-bb97-433f-80a4-dc71bfe36873",
   "metadata": {},
   "outputs": [
    {
     "name": "stdout",
     "output_type": "stream",
     "text": [
      "[[1 2 3 4 5]\n",
      " [6 7 8 9 0]]\n",
      "Row 0 - Colum 0, value: 1\n",
      "Number of dimentions: 2\n",
      "[[[ 1  2  3]\n",
      "  [ 4  5  6]]\n",
      "\n",
      " [[ 7  8  9]\n",
      "  [10 11 12]]]\n",
      "eje0 0 - eje1 1 - eje2 2, value: 6\n",
      "Number of dimentions: 3\n"
     ]
    }
   ],
   "source": [
    "# inside Numpy we can find differen dimentional arrays\n",
    "\"\"\"\n",
    "1D is a Vecto\n",
    "2D is an array\n",
    "3D o more is a tensor\n",
    "\"\"\"\n",
    "\n",
    "import numpy as np\n",
    "# I've defined as 2D array \n",
    "numbers = np.array([[1,2,3,4,5],[6,7,8,9,0]])\n",
    "print(numbers)\n",
    "\n",
    "# I can acces to a specific value by index\n",
    "print(\"Row 0 - Colum 0, value:\",numbers[0,0])\n",
    "\n",
    "# I can know the number of dimentions of the numbers array using .ndim method\n",
    "print(\"Number of dimentions:\",numbers.ndim)\n",
    "\n",
    "# I can create a 3D array\n",
    "numbers_3D = np.array([[[1,2,3],[4,5,6]],[[7,8,9],[10,11,12]]])\n",
    "print(numbers_3D)\n",
    "\n",
    "# I can acces to a specific value by index\n",
    "print(\"eje0 0 - eje1 1 - eje2 2, value:\",numbers_3D[0,1,2])\n",
    "\n",
    "# I can know the number of dimentions of the numbers array using .ndim method\n",
    "print(\"Number of dimentions:\",numbers_3D.ndim)"
   ]
  },
  {
   "cell_type": "markdown",
   "id": "ff26b347-1013-4a42-b2ee-9e8c61aae219",
   "metadata": {},
   "source": [
    "# Creating arrays from List and other python structures"
   ]
  },
  {
   "cell_type": "code",
   "execution_count": 1,
   "id": "09cace12-a2ec-4ca5-83f1-c5cd5313f9be",
   "metadata": {},
   "outputs": [],
   "source": [
    "import numpy as np"
   ]
  },
  {
   "cell_type": "code",
   "execution_count": 3,
   "id": "703a8271-0463-4344-8d28-62adeef1ad01",
   "metadata": {},
   "outputs": [
    {
     "name": "stdout",
     "output_type": "stream",
     "text": [
      "[1 2 3 4 5 6 7]\n"
     ]
    }
   ],
   "source": [
    "# create an array from a list\n",
    "list_1D = [1,2,3,4,5,6,7]\n",
    "list_1D_array = np.array(list_1D)\n",
    "print(list_1D_array)"
   ]
  },
  {
   "cell_type": "code",
   "execution_count": 4,
   "id": "28501218-7099-4d30-8296-3e57e6efb955",
   "metadata": {},
   "outputs": [
    {
     "name": "stdout",
     "output_type": "stream",
     "text": [
      "[[1 2 3 4]\n",
      " [5 6 7 8]]\n"
     ]
    }
   ],
   "source": [
    "# 2D array from python list\n",
    "list_2D = [[1,2,3,4],[5,6,7,8]]\n",
    "list_2D_array = np.array(list_2D)\n",
    "print(list_2D_array)"
   ]
  },
  {
   "cell_type": "code",
   "execution_count": 5,
   "id": "e7a9ad7e-8291-488a-bf31-c621c82db633",
   "metadata": {},
   "outputs": [
    {
     "name": "stdout",
     "output_type": "stream",
     "text": [
      "['1' '2' 'Hugo' '3' 'Andres']\n"
     ]
    }
   ],
   "source": [
    "# Numpy will put the data type tha generalice all data store in python structure, for example\n",
    "list_data = [1,2,'Hugo', 3, 'Andres']\n",
    "gen_array = np.array(list_data)\n",
    "print(gen_array)"
   ]
  },
  {
   "cell_type": "code",
   "execution_count": 7,
   "id": "3dafd024-0384-45f6-b85a-00a1573243ae",
   "metadata": {},
   "outputs": [
    {
     "name": "stdout",
     "output_type": "stream",
     "text": [
      "[1 2 3 4 5 6]\n"
     ]
    }
   ],
   "source": [
    "# Define an array from a tuple\n",
    "tuple_1D = (1,2,3,4,5,6)\n",
    "tuple_1D_array = np.array(tuple_1D)\n",
    "print(tuple_1D_array)"
   ]
  },
  {
   "cell_type": "code",
   "execution_count": 8,
   "id": "5b881c6f-96b3-4e6c-898b-e43bbff16844",
   "metadata": {},
   "outputs": [
    {
     "name": "stdout",
     "output_type": "stream",
     "text": [
      "[[1 2 3]\n",
      " [4 5 6]]\n"
     ]
    }
   ],
   "source": [
    "# Define an array from a tuple\n",
    "tuple_2D = ((1,2,3),(4,5,6))\n",
    "tuple_2D_array = np.array(tuple_2D)\n",
    "print(tuple_2D_array)"
   ]
  },
  {
   "cell_type": "code",
   "execution_count": 11,
   "id": "a7f9defb-20ae-4659-9df8-312f9d6921cb",
   "metadata": {},
   "outputs": [
    {
     "name": "stdout",
     "output_type": "stream",
     "text": [
      "['Hugo' '30']\n"
     ]
    }
   ],
   "source": [
    "# define an array from a dictionary, first we need to choose or the values o keys from the dictionary and after that\n",
    "# we need to change tha type to listo usng list() method of python\n",
    "dict_1D = {\n",
    "    'name': 'Hugo',\n",
    "    'age': 30\n",
    "          }\n",
    "dict_1D_array = np.array(list(dict_1D.values()))\n",
    "print(dict_1D_array)"
   ]
  },
  {
   "cell_type": "markdown",
   "id": "cb0582d5-e76f-417c-ac4a-911aaeb7d98a",
   "metadata": {},
   "source": [
    "# Intrinsic Numpy array creation\n",
    "Create an array manually can be tedius but we can use functions from Numpy to do that"
   ]
  },
  {
   "cell_type": "code",
   "execution_count": 13,
   "id": "ec774665-4e2c-4a7f-bf6b-f14118ce8aa3",
   "metadata": {},
   "outputs": [
    {
     "name": "stdout",
     "output_type": "stream",
     "text": [
      "[10 15 20 25 30 35 40 45 50 55 60 65 70 75]\n"
     ]
    }
   ],
   "source": [
    "# function arange(start, stop, step, like(data type), this function allow us to define a range of numbers as an array\n",
    "\n",
    "array_arange = np.arange(10, 80, 5)\n",
    "print(array_arange)"
   ]
  },
  {
   "cell_type": "code",
   "execution_count": 21,
   "id": "8dec5472-9106-4876-8a1c-8a4b1080df3f",
   "metadata": {},
   "outputs": [
    {
     "name": "stdout",
     "output_type": "stream",
     "text": [
      "[10.         14.44444444 18.88888889 23.33333333 27.77777778 32.22222222\n",
      " 36.66666667 41.11111111 45.55555556 50.        ]\n",
      "['10.0' '14.444444444444445' '18.88888888888889' '23.333333333333336'\n",
      " '27.77777777777778' '32.22222222222222' '36.66666666666667'\n",
      " '41.111111111111114' '45.55555555555556' '50.0']\n"
     ]
    }
   ],
   "source": [
    "# fucntion linspace(start, stop, num(number of items))\n",
    "# the numbers of items will be between the rang of start and stop\n",
    "# specially usefull when I need an array of floating numbers\n",
    "array_linspace = np.linspace(10, 50 , 10)\n",
    "print(array_linspace)\n",
    "\n",
    "# Also I can define the data type\n",
    "array_linspace_2 = np.linspace(10, 50 , 10, dtype=str)\n",
    "print(array_linspace_2)"
   ]
  },
  {
   "cell_type": "code",
   "execution_count": 27,
   "id": "9805d8c3-6e7b-4174-954f-0ce4eed83b8c",
   "metadata": {},
   "outputs": [
    {
     "name": "stdout",
     "output_type": "stream",
     "text": [
      "[0.04330343 0.22990403 0.15912521 0.68540625]\n",
      "[[0.26037141 0.93290893 0.73303803 0.6581537 ]\n",
      " [0.74030538 0.61380717 0.43552035 0.12111737]\n",
      " [0.03077793 0.35567994 0.36734167 0.48621474]\n",
      " [0.60667829 0.05442672 0.64034115 0.95496429]]\n"
     ]
    }
   ],
   "source": [
    "# Using random function method from Numpy this one allows generate an array with random values\n",
    "# .random.rand(4) -> will generate a 1D array with 4 floating random numbers\n",
    "\n",
    "random_array_1 = np.random.rand(4)\n",
    "print(random_array_1)\n",
    "\n",
    "# also I can create a Ndimentional array using random.rand()\n",
    "random_array_2 = np.random.rand(4, 4)\n",
    "print(random_array_2)"
   ]
  },
  {
   "cell_type": "code",
   "execution_count": 29,
   "id": "a5eb73ae-82f3-4f4a-89c1-4313baef9ecf",
   "metadata": {},
   "outputs": [
    {
     "name": "stdout",
     "output_type": "stream",
     "text": [
      "[13 14 14 15 30 19]\n",
      "[[11 10 14]\n",
      " [26 26 25]]\n"
     ]
    }
   ],
   "source": [
    "# In another hand random.randint(star, stop, num(number of items))\n",
    "# this method will generate a integer array between start and stop taking the number of values required\n",
    "\n",
    "random_array_2 = np.random.randint(10, 40, size=(6))\n",
    "print(random_array_2)\n",
    "\n",
    "# Also I can create a Ndimentional array with random.randint()\n",
    "random_array_3 = np.random.randint(10, 40, size=(2,3))\n",
    "print(random_array_3)"
   ]
  },
  {
   "cell_type": "markdown",
   "id": "b8959ef2-df08-4bd1-9e66-c5f11c396c2a",
   "metadata": {},
   "source": [
    "# Creating arrays filled with constant values"
   ]
  },
  {
   "cell_type": "code",
   "execution_count": 32,
   "id": "a41d9212-642b-4892-9f32-4f976317f7a7",
   "metadata": {},
   "outputs": [
    {
     "name": "stdout",
     "output_type": "stream",
     "text": [
      "[0. 0. 0. 0. 0.]\n",
      "[[0. 0. 0. 0. 0.]\n",
      " [0. 0. 0. 0. 0.]]\n"
     ]
    }
   ],
   "source": [
    "# Using .zeros method of Numpy\n",
    "\n",
    "zeros_array = np.zeros(5)\n",
    "print(zeros_array)\n",
    "\n",
    "zeros_array_2D = np.zeros((2,5))\n",
    "print(zeros_array_2D)"
   ]
  },
  {
   "cell_type": "code",
   "execution_count": 35,
   "id": "e71d8d86-719b-4c3e-916f-dd504bbe2d15",
   "metadata": {},
   "outputs": [
    {
     "name": "stdout",
     "output_type": "stream",
     "text": [
      "[1. 1. 1. 1. 1.]\n",
      "[[1 1]\n",
      " [1 1]\n",
      " [1 1]]\n"
     ]
    }
   ],
   "source": [
    "# Using .ones method from Numpy\n",
    "\n",
    "ones_array = np.ones(5)\n",
    "print(ones_array)\n",
    "\n",
    "# We can also define an arry fill of ones with 2D and a specific number of dimentions \n",
    "ones_array_2D = np.ones((3,2), dtype=int)\n",
    "print(ones_array_2D)"
   ]
  },
  {
   "cell_type": "code",
   "execution_count": null,
   "id": "036c279b-2908-4e0a-ba66-be4ba4b49210",
   "metadata": {},
   "outputs": [],
   "source": [
    "# full and fill functions\n",
    "\n",
    "# fill function is used to create one dimentional array\n",
    "# -> Also fill function alluws me to fill and existing array with similar values\n",
    "\n",
    "# full function is used to crate both 1D and 2D array\n",
    "\n"
   ]
  },
  {
   "cell_type": "code",
   "execution_count": 38,
   "id": "cf780d7a-1309-4a9b-aab9-d7082a8299f5",
   "metadata": {},
   "outputs": [
    {
     "name": "stdout",
     "output_type": "stream",
     "text": [
      "[0 0 0 0 0 0 0 0]\n",
      "[10 10 10 10 10 10 10 10]\n"
     ]
    }
   ],
   "source": [
    "# The fill function works filled an existing empty array\n",
    "\n",
    "first_fill_array = np.empty(8, dtype=int)\n",
    "print(first_fill_array)\n",
    "\n",
    "first_fill_array.fill(10)\n",
    "print(first_fill_array)"
   ]
  },
  {
   "cell_type": "code",
   "execution_count": 39,
   "id": "59d684c7-cb65-49a4-894e-72241258c79e",
   "metadata": {},
   "outputs": [
    {
     "name": "stdout",
     "output_type": "stream",
     "text": [
      "[[5 5 5]\n",
      " [5 5 5]\n",
      " [5 5 5]]\n"
     ]
    }
   ],
   "source": [
    "# .full((row, colum), number)\n",
    "\n",
    "first_full_array = np.full((3,3), 5)\n",
    "print(first_full_array)"
   ]
  },
  {
   "cell_type": "markdown",
   "id": "973abd54-d3ad-4c98-8bb7-3d756b90696e",
   "metadata": {},
   "source": [
    "# Findinf a shape and size of an array\n",
    "An array has 4 main caracteristica\n",
    "for example:\n",
    "[\n",
    "[1,2,3],\n",
    "[1,2,3]\n",
    "]\n",
    "\n",
    "dtype: refers to data type, in this case integer\n",
    "ndim: refers to number of dimentions\n",
    "size: refers to number of elemento in the array\n",
    "shape: refers to the number of dimentions of the array"
   ]
  },
  {
   "cell_type": "code",
   "execution_count": 44,
   "id": "a9bb8074-1fef-4b1e-962a-c5b63ce9aa76",
   "metadata": {},
   "outputs": [
    {
     "name": "stdout",
     "output_type": "stream",
     "text": [
      "[[17 27 18]\n",
      " [46 37 39]\n",
      " [18 16 37]]\n",
      "Array shape:  (3, 3)\n",
      "Array size:  9\n"
     ]
    }
   ],
   "source": [
    "# Shape\n",
    "\n",
    "array = np.random.randint(10, 50, (3,3))\n",
    "print(array)\n",
    "print(\"Array shape: \", array.shape) # number of dimentions\n",
    "print(\"Array size: \", array.size) # number of items"
   ]
  },
  {
   "cell_type": "markdown",
   "id": "82e62b58-7c2b-40fd-a869-dafd34f416dd",
   "metadata": {},
   "source": [
    "# Adding, removing and sorting elements"
   ]
  },
  {
   "cell_type": "code",
   "execution_count": 1,
   "id": "c1bc6255-a6db-4afa-81ba-5ffaf49e5db8",
   "metadata": {},
   "outputs": [
    {
     "name": "stdout",
     "output_type": "stream",
     "text": [
      "[1 2 3 4 5]\n"
     ]
    }
   ],
   "source": [
    "import numpy as np\n",
    "\n",
    "array = np.array([1,2,3,4,5])\n",
    "print(array)"
   ]
  },
  {
   "cell_type": "code",
   "execution_count": 2,
   "id": "2a870a4d-36c3-4bd2-b329-e9fb594e3ee2",
   "metadata": {},
   "outputs": [
    {
     "name": "stdout",
     "output_type": "stream",
     "text": [
      "[ 1  2  3 10 20  4  5]\n"
     ]
    }
   ],
   "source": [
    "# use of function .inser(array, index, data) -> this one insert the data in the specific index\n",
    "\n",
    "new_array = np.insert(array, 3, [10,20])\n",
    "print(new_array)"
   ]
  },
  {
   "cell_type": "code",
   "execution_count": 4,
   "id": "46f8a8b5-4a22-4bc0-962c-be3852640c0c",
   "metadata": {},
   "outputs": [
    {
     "name": "stdout",
     "output_type": "stream",
     "text": [
      "[6 7 8 9]\n",
      "[ 6  7  8  9 20 30]\n"
     ]
    }
   ],
   "source": [
    "# use of function .append(array, data) -> this one add data to the endo of array\n",
    "\n",
    "array_2 = np.array([6,7,8,9])\n",
    "print(array_2)\n",
    "\n",
    "new_array_2 = np.append(array_2, [20,30])\n",
    "print(new_array_2)"
   ]
  },
  {
   "cell_type": "code",
   "execution_count": 5,
   "id": "b10fa3c3-0dfd-4f73-a3c6-3bb7afa419f7",
   "metadata": {},
   "outputs": [
    {
     "name": "stdout",
     "output_type": "stream",
     "text": [
      "[10 20 30 40 50 60]\n",
      "[10 20 40 50 60]\n"
     ]
    }
   ],
   "source": [
    "# deleting data from an array .delete(array, index)\n",
    "\n",
    "array_3 = np.array([10,20,30,40,50,60])\n",
    "print(array_3)\n",
    "\n",
    "new_array_3 = np.delete(array_3, 2)\n",
    "print(new_array_3)"
   ]
  },
  {
   "cell_type": "code",
   "execution_count": 6,
   "id": "caa3d8e4-036f-47ee-9562-ef773b01bb27",
   "metadata": {},
   "outputs": [
    {
     "name": "stdout",
     "output_type": "stream",
     "text": [
      "[11 16 44 29 15 45 37 27 16 12]\n",
      "[11 12 15 16 16 27 29 37 44 45]\n"
     ]
    }
   ],
   "source": [
    "# sort function provides a copy of the given array but ordered\n",
    "\n",
    "int_array = np.random.randint(10,50,10)\n",
    "print(int_array)\n",
    "\n",
    "sort_int_array = np.sort(int_array)\n",
    "print(sort_int_array)"
   ]
  },
  {
   "cell_type": "code",
   "execution_count": 8,
   "id": "56aee684-0e85-4d7b-8304-489dcfdf2867",
   "metadata": {},
   "outputs": [
    {
     "name": "stdout",
     "output_type": "stream",
     "text": [
      "[[4 0 9]\n",
      " [4 4 7]\n",
      " [2 1 0]]\n",
      "[[0 4 9]\n",
      " [4 4 7]\n",
      " [0 1 2]]\n"
     ]
    }
   ],
   "source": [
    "# SORT function also can order 2D arrays\n",
    "\n",
    "int_array_2 = np.random.randint(0,10,[3,3])\n",
    "print(int_array_2)\n",
    "\n",
    "print(np.sort(int_array_2))"
   ]
  },
  {
   "cell_type": "code",
   "execution_count": 10,
   "id": "b0c1cb6f-b4d0-416d-8bd8-a75d4cd76603",
   "metadata": {},
   "outputs": [
    {
     "name": "stdout",
     "output_type": "stream",
     "text": [
      "['rojo' 'verde' 'azul' 'amarillo' 'morado']\n",
      "['amarillo' 'azul' 'morado' 'rojo' 'verde']\n"
     ]
    }
   ],
   "source": [
    "# Also SORT function can sort string content into an array\n",
    "\n",
    "colors = np.array(['rojo', 'verde', 'azul', 'amarillo', 'morado'])\n",
    "print(colors)\n",
    "\n",
    "print(np.sort(colors))"
   ]
  },
  {
   "cell_type": "markdown",
   "id": "2b4d4f49-3b73-43a6-b57e-c65f17c91451",
   "metadata": {},
   "source": [
    "# Copies and Views"
   ]
  },
  {
   "cell_type": "code",
   "execution_count": 15,
   "id": "a1c94a81-56bb-47b1-a1c2-e5c0fc17be54",
   "metadata": {},
   "outputs": [
    {
     "name": "stdout",
     "output_type": "stream",
     "text": [
      "Original: [0 1 2 3 4]\n",
      "View: [0 1 2 3 4]\n",
      "Original: [ 0  1 10  3  4]\n",
      "View: [ 0  1 10  3  4]\n",
      "Original: [ 0  1 10 50  4]\n",
      "View: [ 0  1 10 50  4]\n"
     ]
    }
   ],
   "source": [
    "# A view is a reference to the space memori where is located the original array\n",
    "\n",
    "org_array = np.arange(5)\n",
    "print(\"Original:\",org_array)\n",
    "\n",
    "view_array = org_array\n",
    "print(\"View:\",view_array)\n",
    "\n",
    "# A view allows see a change in the original array from the copy or a change prom the copy in the original array\n",
    "org_array[2] = 10\n",
    "print(\"Original:\",org_array)\n",
    "print(\"View:\",view_array)\n",
    "\n",
    "# change made in the view but orginal can reflect the change as well\n",
    "view_array[3] = 50\n",
    "print(\"Original:\",org_array)\n",
    "print(\"View:\",view_array)"
   ]
  },
  {
   "cell_type": "markdown",
   "id": "95459840-559a-4d96-8f13-9154a5337aef",
   "metadata": {},
   "source": [
    "# Reshaping arrays"
   ]
  },
  {
   "cell_type": "code",
   "execution_count": 5,
   "id": "8ed60a4e-6f6b-4837-91c9-9deb4f7e3506",
   "metadata": {},
   "outputs": [
    {
     "name": "stdout",
     "output_type": "stream",
     "text": [
      "[ 0  1  2  3  4  5  6  7  8  9 10 11 12 13 14]\n",
      "[[ 0  1  2  3  4]\n",
      " [ 5  6  7  8  9]\n",
      " [10 11 12 13 14]]\n",
      "[[ 0  1  2]\n",
      " [ 3  4  5]\n",
      " [ 6  7  8]\n",
      " [ 9 10 11]\n",
      " [12 13 14]]\n"
     ]
    }
   ],
   "source": [
    "import numpy as np\n",
    "\n",
    "array = np.arange(0,15)\n",
    "print(array)\n",
    "\n",
    "# Now we will convert this 1D array in a different one with 3 rows and 5 columns\n",
    "# Reshape is a numpy function\n",
    "reshape_array = np.reshape(array, (3,5))\n",
    "print(reshape_array)\n",
    "\n",
    "# also we can reshspe again the last reshaed array\n",
    "re_reshape_array = np.reshape(reshape_array, (5,3))\n",
    "print(re_reshape_array)"
   ]
  },
  {
   "cell_type": "code",
   "execution_count": 10,
   "id": "4e0c9472-5e9a-4d65-8750-32c98141ad68",
   "metadata": {},
   "outputs": [
    {
     "name": "stdout",
     "output_type": "stream",
     "text": [
      "['1' '2' '3' 'a' 'b' 'c' '3' '4' '5' 'e' 'f' 'g']\n",
      "[['1' '2' '3']\n",
      " ['a' 'b' 'c']\n",
      " ['3' '4' '5']\n",
      " ['e' 'f' 'g']]\n",
      "['1' '2' '3' 'a' 'b' 'c' '3' '4' '5' 'e' 'f' 'g']\n",
      "['1' '2' '3' 'a' 'b' 'c' '3' '4' '5' 'e' 'f' 'g']\n"
     ]
    }
   ],
   "source": [
    "n_array = np.array([1,2,3,'a','b','c', 3,4,5,'e','f','g'])\n",
    "print(n_array)\n",
    "\n",
    "ns_array = np.reshape(n_array, (4,3))\n",
    "print(ns_array)\n",
    "\n",
    "# Now I will flatten the array to check if the values order remains\n",
    "print(ns_array.flatten())\n",
    "\n",
    "# I can perform a flattenig using reshape as well\n",
    "print(np.reshape(ns_array, -1))"
   ]
  },
  {
   "cell_type": "markdown",
   "id": "5f48121e-3381-4121-a9b7-6387830a38b9",
   "metadata": {},
   "source": [
    "# Indexin and slicing"
   ]
  },
  {
   "cell_type": "code",
   "execution_count": 14,
   "id": "8daa2ff3-931e-431c-aa06-9d2c8817eb1c",
   "metadata": {},
   "outputs": [
    {
     "name": "stdout",
     "output_type": "stream",
     "text": [
      "[0 1 2 3 4 5 6 7 8 9]\n",
      "2\n",
      "[1 2 3]\n"
     ]
    }
   ],
   "source": [
    "D1_array = np.arange(0,10)\n",
    "print(D1_array)\n",
    "\n",
    "#indexin\n",
    "print(D1_array[2])\n",
    "\n",
    "#slicing\n",
    "print(D1_array[1:4])"
   ]
  },
  {
   "cell_type": "code",
   "execution_count": 33,
   "id": "7a23b8aa-a706-4518-9fcc-c35fdaff6ee9",
   "metadata": {},
   "outputs": [
    {
     "name": "stdout",
     "output_type": "stream",
     "text": [
      "[[0 0]\n",
      " [9 8]\n",
      " [4 5]\n",
      " [6 6]\n",
      " [0 5]]\n",
      "8\n",
      "[[9 8]\n",
      " [4 5]\n",
      " [6 6]\n",
      " [0 5]]\n"
     ]
    }
   ],
   "source": [
    "D2_array = np.random.randint(0,10, size=(5,2))\n",
    "print(D2_array)\n",
    "\n",
    "#indexing\n",
    "print(D2_array[1,1])\n",
    "\n",
    "# slicing\n",
    "print(D2_array[1::])\n",
    "                      "
   ]
  },
  {
   "cell_type": "markdown",
   "id": "e01dc006-e0d7-40fb-b946-c153c2e8ef68",
   "metadata": {},
   "source": [
    "# Joining and Splitting Arrays"
   ]
  },
  {
   "cell_type": "code",
   "execution_count": null,
   "id": "22d72655-39ec-40e6-b998-53ccd5615a4e",
   "metadata": {},
   "outputs": [],
   "source": [
    "# sometimes we need to add two or more array in a bigger one\n",
    "\n",
    "#concatenate\n",
    "#stack\n"
   ]
  },
  {
   "cell_type": "code",
   "execution_count": 4,
   "id": "d3258171-f664-40cd-8864-20b876fb95ee",
   "metadata": {},
   "outputs": [
    {
     "name": "stdout",
     "output_type": "stream",
     "text": [
      "array 1: [ 1  2  3  4  5  6  7  8  9 10]\n",
      "array 2: [11 12 13 14 15 16 17 18 19 20]\n",
      "Concatenated array: [ 1  2  3  4  5  6  7  8  9 10 11 12 13 14 15 16 17 18 19 20]\n"
     ]
    }
   ],
   "source": [
    "import numpy as np\n",
    "\n",
    "array_1 = np.arange(1,11)\n",
    "array_2 = np.arange(11,21)\n",
    "print(\"array 1:\", array_1)\n",
    "print(\"array 2:\", array_2)\n",
    "\n",
    "# concatenate fucntion needs a tuple with all array to concatenate\n",
    "array_c = np.concatenate((array_1, array_2))\n",
    "print(\"Concatenated array:\", array_c)"
   ]
  },
  {
   "cell_type": "code",
   "execution_count": 9,
   "id": "b9765813-7e82-456b-b22b-d915c7bc797e",
   "metadata": {},
   "outputs": [
    {
     "name": "stdout",
     "output_type": "stream",
     "text": [
      "[[ 1  2  3 10 20 30]\n",
      " [ 4  5  6 40 50 60]]\n"
     ]
    }
   ],
   "source": [
    "# also concatenate works with n dimetional arrays\n",
    "\n",
    "array1_2d = np.array([[1,2,3],[4,5,6]])\n",
    "array2_2d = np.array([[10,20,30],[40,50,60]])\n",
    "\n",
    "# np.concatenate((elements in a tuple), axis= 0=rows, 1=colums ...)\n",
    "array3_2d = np.concatenate((array1_2d,array2_2d), axis=1)\n",
    "print(array3_2d)"
   ]
  },
  {
   "cell_type": "code",
   "execution_count": 10,
   "id": "22142ce1-0b54-41a3-8b46-7375a383617f",
   "metadata": {},
   "outputs": [
    {
     "name": "stdout",
     "output_type": "stream",
     "text": [
      "[[ 1  2  3  4  5  6  7  8  9 10]\n",
      " [11 12 13 14 15 16 17 18 19 20]]\n"
     ]
    }
   ],
   "source": [
    "# functions vstack and hstack\n",
    "\n",
    "# vertical stack\n",
    "print(np.vstack((array_1, array_2)))\n"
   ]
  },
  {
   "cell_type": "code",
   "execution_count": 11,
   "id": "5fe3dac4-c022-4240-9533-5c39528faf28",
   "metadata": {},
   "outputs": [
    {
     "name": "stdout",
     "output_type": "stream",
     "text": [
      "[ 1  2  3  4  5  6  7  8  9 10 11 12 13 14 15 16 17 18 19 20]\n"
     ]
    }
   ],
   "source": [
    "# horizontal stack\n",
    "print(np.hstack((array_1, array_2)))"
   ]
  },
  {
   "cell_type": "code",
   "execution_count": null,
   "id": "c8433759-cac9-45c4-8fe5-b02edeb2525f",
   "metadata": {},
   "outputs": [],
   "source": [
    "# Spliting functions, those ones tranforma a 1D arrays in others with similar size\n",
    "# when we try to split an array the result must be a same size array, if not we will get an error\n",
    "\n"
   ]
  },
  {
   "cell_type": "markdown",
   "id": "f7733582-2b8f-44ab-b486-875caabfd1b2",
   "metadata": {},
   "source": [
    "# Atritmetic operations and functions"
   ]
  },
  {
   "cell_type": "code",
   "execution_count": null,
   "id": "6e930667-2ace-47a9-ac30-257ae9ce1bb8",
   "metadata": {},
   "outputs": [],
   "source": [
    "# Vectorization is the numpy capacity to make opperations in the hole array, Operation can be executed in parallel on multiple elements of the array\n",
    "#"
   ]
  },
  {
   "cell_type": "code",
   "execution_count": 16,
   "id": "63ed4dc2-ee66-41c3-97b5-309758ac1c36",
   "metadata": {},
   "outputs": [
    {
     "name": "stdout",
     "output_type": "stream",
     "text": [
      "a: [0 1 2 3 4 5 6 7 8 9]\n",
      "b: [20 21 22 23 24 25 26 27 28 29]\n"
     ]
    }
   ],
   "source": [
    "import numpy as np\n",
    "\n",
    "a = np.arange(0,10)\n",
    "b = np.arange(20,30)\n",
    "print(\"a:\",array_1)\n",
    "print(\"b:\",array_2)"
   ]
  },
  {
   "cell_type": "code",
   "execution_count": 17,
   "id": "6bd09ee7-7b92-46cc-811c-ce6f42b5c424",
   "metadata": {},
   "outputs": [
    {
     "data": {
      "text/plain": [
       "array([20, 22, 24, 26, 28, 30, 32, 34, 36, 38])"
      ]
     },
     "execution_count": 17,
     "metadata": {},
     "output_type": "execute_result"
    }
   ],
   "source": [
    "a+b"
   ]
  },
  {
   "cell_type": "code",
   "execution_count": 18,
   "id": "197b605e-cb93-4a13-ac01-b42423872349",
   "metadata": {},
   "outputs": [
    {
     "data": {
      "text/plain": [
       "array([-20, -20, -20, -20, -20, -20, -20, -20, -20, -20])"
      ]
     },
     "execution_count": 18,
     "metadata": {},
     "output_type": "execute_result"
    }
   ],
   "source": [
    "a-b"
   ]
  },
  {
   "cell_type": "code",
   "execution_count": 19,
   "id": "96f63e95-0b88-4ea0-b4be-0be60a68f709",
   "metadata": {},
   "outputs": [
    {
     "data": {
      "text/plain": [
       "array([  0,  21,  44,  69,  96, 125, 156, 189, 224, 261])"
      ]
     },
     "execution_count": 19,
     "metadata": {},
     "output_type": "execute_result"
    }
   ],
   "source": [
    "a*b"
   ]
  },
  {
   "cell_type": "code",
   "execution_count": 20,
   "id": "c08594be-7a3f-438a-9fcd-cd4bf1e47855",
   "metadata": {},
   "outputs": [
    {
     "data": {
      "text/plain": [
       "array([0.        , 0.04761905, 0.09090909, 0.13043478, 0.16666667,\n",
       "       0.2       , 0.23076923, 0.25925926, 0.28571429, 0.31034483])"
      ]
     },
     "execution_count": 20,
     "metadata": {},
     "output_type": "execute_result"
    }
   ],
   "source": [
    "a/b"
   ]
  },
  {
   "cell_type": "code",
   "execution_count": 21,
   "id": "3467e52b-e297-494b-be20-ee8f1fc8e425",
   "metadata": {},
   "outputs": [
    {
     "data": {
      "text/plain": [
       "array([ 0,  2,  4,  6,  8, 10, 12, 14, 16, 18])"
      ]
     },
     "execution_count": 21,
     "metadata": {},
     "output_type": "execute_result"
    }
   ],
   "source": [
    "a*2"
   ]
  },
  {
   "cell_type": "code",
   "execution_count": 22,
   "id": "9fd07889-f074-4c09-9716-041831bcb84b",
   "metadata": {},
   "outputs": [
    {
     "data": {
      "text/plain": [
       "array([20, 22, 24, 26, 28, 30, 32, 34, 36, 38])"
      ]
     },
     "execution_count": 22,
     "metadata": {},
     "output_type": "execute_result"
    }
   ],
   "source": [
    "# ALSO we have numpy fucntions that performs those operatios as well\n",
    "\n",
    "np.add(a,b)"
   ]
  },
  {
   "cell_type": "code",
   "execution_count": 24,
   "id": "6ce85032-8248-47de-a6c6-092c6927bb71",
   "metadata": {},
   "outputs": [
    {
     "data": {
      "text/plain": [
       "array([-20, -20, -20, -20, -20, -20, -20, -20, -20, -20])"
      ]
     },
     "execution_count": 24,
     "metadata": {},
     "output_type": "execute_result"
    }
   ],
   "source": [
    "np.subtract(a,b)"
   ]
  },
  {
   "cell_type": "code",
   "execution_count": 25,
   "id": "a070bf1e-4fe8-4819-8ec5-1659de4182fb",
   "metadata": {},
   "outputs": [
    {
     "data": {
      "text/plain": [
       "array([  0,  21,  44,  69,  96, 125, 156, 189, 224, 261])"
      ]
     },
     "execution_count": 25,
     "metadata": {},
     "output_type": "execute_result"
    }
   ],
   "source": [
    "np.multiply(a,b)"
   ]
  },
  {
   "cell_type": "code",
   "execution_count": 26,
   "id": "d6f97cec-3f3b-4301-9c17-5938b0a2448a",
   "metadata": {},
   "outputs": [
    {
     "data": {
      "text/plain": [
       "array([0.        , 0.04761905, 0.09090909, 0.13043478, 0.16666667,\n",
       "       0.2       , 0.23076923, 0.25925926, 0.28571429, 0.31034483])"
      ]
     },
     "execution_count": 26,
     "metadata": {},
     "output_type": "execute_result"
    }
   ],
   "source": [
    "np.divide(a,b)"
   ]
  },
  {
   "cell_type": "code",
   "execution_count": 27,
   "id": "69c808f3-4788-4b8b-8cce-68caed047be6",
   "metadata": {},
   "outputs": [
    {
     "data": {
      "text/plain": [
       "array([0, 1, 2, 3, 4, 5, 6, 7, 8, 9])"
      ]
     },
     "execution_count": 27,
     "metadata": {},
     "output_type": "execute_result"
    }
   ],
   "source": [
    "# Calcula el residui de una division de dos arrays\n",
    "np.mod(a,b)"
   ]
  },
  {
   "cell_type": "code",
   "execution_count": 31,
   "id": "5d16daab-1bee-4b2c-994e-5191b8cc4994",
   "metadata": {},
   "outputs": [
    {
     "data": {
      "text/plain": [
       "array([                  0,                   1,             4194304,\n",
       "               94143178827,     281474976710656,  298023223876953125,\n",
       "       4561031516192243712, 5059972980857283351,                   0,\n",
       "       5756027422282277481])"
      ]
     },
     "execution_count": 31,
     "metadata": {},
     "output_type": "execute_result"
    }
   ],
   "source": [
    "np.power(a,b)"
   ]
  },
  {
   "cell_type": "code",
   "execution_count": 32,
   "id": "9fbcb473-8a7a-45aa-9b01-b29b4031aa31",
   "metadata": {},
   "outputs": [
    {
     "data": {
      "text/plain": [
       "array([0.        , 1.        , 1.41421356, 1.73205081, 2.        ,\n",
       "       2.23606798, 2.44948974, 2.64575131, 2.82842712, 3.        ])"
      ]
     },
     "execution_count": 32,
     "metadata": {},
     "output_type": "execute_result"
    }
   ],
   "source": [
    "np.sqrt(a)"
   ]
  },
  {
   "cell_type": "markdown",
   "id": "0aebd7ee-6f3c-4061-bdae-76c7de610902",
   "metadata": {},
   "source": [
    "# Broadcasting"
   ]
  },
  {
   "cell_type": "code",
   "execution_count": 36,
   "id": "29aab63b-73fd-4301-a12d-64bedd819e83",
   "metadata": {},
   "outputs": [
    {
     "data": {
      "text/plain": [
       "array([[0, 1, 2, 3, 4],\n",
       "       [5, 6, 7, 8, 9]])"
      ]
     },
     "execution_count": 36,
     "metadata": {},
     "output_type": "execute_result"
    }
   ],
   "source": [
    "#this term describes how Numpy manage array with different shae during aritmetical operations\n",
    "# Some to highlight is that to perform an operation with broadcasting concept meaning operate two arrays with different dimention is that at leat the number of columns must match\n",
    "\n",
    "a =np.arange(0,10).reshape(2,5)\n",
    "a"
   ]
  },
  {
   "cell_type": "code",
   "execution_count": 38,
   "id": "ecc29b77-aa5d-4f0f-b5c5-a05391dafdc4",
   "metadata": {},
   "outputs": [
    {
     "data": {
      "text/plain": [
       "array([6, 2, 1, 6, 8], dtype=int32)"
      ]
     },
     "execution_count": 38,
     "metadata": {},
     "output_type": "execute_result"
    }
   ],
   "source": [
    "b = np.random.randint(1,10,5)\n",
    "b"
   ]
  },
  {
   "cell_type": "code",
   "execution_count": 39,
   "id": "c1ef1339-1d26-4b02-9bc5-ad817f0dca98",
   "metadata": {},
   "outputs": [
    {
     "data": {
      "text/plain": [
       "array([[ 6,  3,  3,  9, 12],\n",
       "       [11,  8,  8, 14, 17]])"
      ]
     },
     "execution_count": 39,
     "metadata": {},
     "output_type": "execute_result"
    }
   ],
   "source": [
    "a+b"
   ]
  },
  {
   "cell_type": "code",
   "execution_count": 40,
   "id": "33daa0ea-4024-4fe8-bbf0-3670e766ade6",
   "metadata": {},
   "outputs": [
    {
     "data": {
      "text/plain": [
       "array([1, 2, 3, 4])"
      ]
     },
     "execution_count": 40,
     "metadata": {},
     "output_type": "execute_result"
    }
   ],
   "source": [
    "# but if i try to perat with a 1d with less comlums will raise an error\n",
    "c = np.array([1,2,3,4])\n",
    "c"
   ]
  },
  {
   "cell_type": "code",
   "execution_count": 41,
   "id": "4b02cf73-e9ef-493b-b9d6-b1a7f18fef07",
   "metadata": {},
   "outputs": [
    {
     "ename": "ValueError",
     "evalue": "operands could not be broadcast together with shapes (2,5) (4,) ",
     "output_type": "error",
     "traceback": [
      "\u001b[1;31m---------------------------------------------------------------------------\u001b[0m",
      "\u001b[1;31mValueError\u001b[0m                                Traceback (most recent call last)",
      "Cell \u001b[1;32mIn[41], line 1\u001b[0m\n\u001b[1;32m----> 1\u001b[0m a\u001b[38;5;241m*\u001b[39mc\n",
      "\u001b[1;31mValueError\u001b[0m: operands could not be broadcast together with shapes (2,5) (4,) "
     ]
    }
   ],
   "source": [
    "a*c"
   ]
  },
  {
   "cell_type": "code",
   "execution_count": 42,
   "id": "088b23da-18b6-4984-a78d-1a8a54e30109",
   "metadata": {},
   "outputs": [
    {
     "data": {
      "text/plain": [
       "array([[[ 0,  1,  2,  3],\n",
       "        [ 4,  5,  6,  7],\n",
       "        [ 8,  9, 10, 11]],\n",
       "\n",
       "       [[12, 13, 14, 15],\n",
       "        [16, 17, 18, 19],\n",
       "        [20, 21, 22, 23]]])"
      ]
     },
     "execution_count": 42,
     "metadata": {},
     "output_type": "execute_result"
    }
   ],
   "source": [
    "# the same logic is applied to 3D array at leas the colums must be match between them\n",
    "d = np.arange(24).reshape(2,3,4)\n",
    "d"
   ]
  },
  {
   "cell_type": "code",
   "execution_count": 43,
   "id": "3c7eda8c-0693-45b6-9f51-9c4066c848ff",
   "metadata": {},
   "outputs": [
    {
     "data": {
      "text/plain": [
       "array([[[ 1,  3,  5,  7],\n",
       "        [ 5,  7,  9, 11],\n",
       "        [ 9, 11, 13, 15]],\n",
       "\n",
       "       [[13, 15, 17, 19],\n",
       "        [17, 19, 21, 23],\n",
       "        [21, 23, 25, 27]]])"
      ]
     },
     "execution_count": 43,
     "metadata": {},
     "output_type": "execute_result"
    }
   ],
   "source": [
    "d+c"
   ]
  },
  {
   "cell_type": "code",
   "execution_count": 45,
   "id": "4be9744a-1f63-46a6-a578-a8ffbd920a34",
   "metadata": {},
   "outputs": [
    {
     "data": {
      "text/plain": [
       "array([1, 2, 3])"
      ]
     },
     "execution_count": 45,
     "metadata": {},
     "output_type": "execute_result"
    }
   ],
   "source": [
    "e = np.array([1,2,3])\n",
    "e"
   ]
  },
  {
   "cell_type": "code",
   "execution_count": 46,
   "id": "3f4411b8-af7b-4d1c-b419-f4b444c66609",
   "metadata": {},
   "outputs": [
    {
     "ename": "ValueError",
     "evalue": "operands could not be broadcast together with shapes (2,3,4) (3,) ",
     "output_type": "error",
     "traceback": [
      "\u001b[1;31m---------------------------------------------------------------------------\u001b[0m",
      "\u001b[1;31mValueError\u001b[0m                                Traceback (most recent call last)",
      "Cell \u001b[1;32mIn[46], line 1\u001b[0m\n\u001b[1;32m----> 1\u001b[0m d\u001b[38;5;241m+\u001b[39me\n",
      "\u001b[1;31mValueError\u001b[0m: operands could not be broadcast together with shapes (2,3,4) (3,) "
     ]
    }
   ],
   "source": [
    "d+e"
   ]
  },
  {
   "cell_type": "markdown",
   "id": "54263010-f1c9-4d99-8ae2-5d0ec18a9663",
   "metadata": {},
   "source": [
    "# Agregate functions"
   ]
  },
  {
   "cell_type": "code",
   "execution_count": 42,
   "id": "8097e912-0fb5-4a14-9109-b2fac5c60f9f",
   "metadata": {},
   "outputs": [
    {
     "data": {
      "text/plain": [
       "array([ 55,  40,  56, 109,  53,  23,  24,  41,  78,  22], dtype=int32)"
      ]
     },
     "execution_count": 42,
     "metadata": {},
     "output_type": "execute_result"
    }
   ],
   "source": [
    "# Estas functiones agregadas cumplen la funcion de regresar un valor a partir de los datos del array\n",
    "# por ejemplo .sum() que toma como parametro un array y regresa un valor, la suma total d elos elelemntos del array\n",
    "# o .average que regresa el primedio de los valores\n",
    "\n",
    "import numpy as np\n",
    "\n",
    "fst_arr = np.random.randint(10,110,10)\n",
    "fst_arr"
   ]
  },
  {
   "cell_type": "code",
   "execution_count": 5,
   "id": "0b1848aa-f491-4df4-b600-8b7220e4a858",
   "metadata": {},
   "outputs": [
    {
     "data": {
      "text/plain": [
       "array([[ 10,  20,  30,  40,  50],\n",
       "       [ 60,  70,  80,  90, 100]])"
      ]
     },
     "execution_count": 5,
     "metadata": {},
     "output_type": "execute_result"
    }
   ],
   "source": [
    "scnd_arr = np.arange(10,110,10).reshape(2,5)\n",
    "scnd_arr"
   ]
  },
  {
   "cell_type": "code",
   "execution_count": 12,
   "id": "783989ef-317e-4e83-9da9-54f7045abdda",
   "metadata": {},
   "outputs": [
    {
     "data": {
      "text/plain": [
       "array([[[ 0,  1,  2,  3],\n",
       "        [ 4,  5,  6,  7],\n",
       "        [ 8,  9, 10, 11]],\n",
       "\n",
       "       [[12, 13, 14, 15],\n",
       "        [16, 17, 18, 19],\n",
       "        [20, 21, 22, 23]]])"
      ]
     },
     "execution_count": 12,
     "metadata": {},
     "output_type": "execute_result"
    }
   ],
   "source": [
    "trt_arr = np.arange(0,24).reshape(2,3,4)\n",
    "trt_arr"
   ]
  },
  {
   "cell_type": "code",
   "execution_count": 13,
   "id": "090ff63c-c126-4133-a991-35f4a09d1031",
   "metadata": {},
   "outputs": [
    {
     "data": {
      "text/plain": [
       "np.int64(550)"
      ]
     },
     "execution_count": 13,
     "metadata": {},
     "output_type": "execute_result"
    }
   ],
   "source": [
    "fst_arr.sum()"
   ]
  },
  {
   "cell_type": "code",
   "execution_count": 14,
   "id": "17cf24b3-0295-415d-84ac-a15c433ba993",
   "metadata": {},
   "outputs": [
    {
     "data": {
      "text/plain": [
       "np.int64(550)"
      ]
     },
     "execution_count": 14,
     "metadata": {},
     "output_type": "execute_result"
    }
   ],
   "source": [
    "scnd_arr.sum()"
   ]
  },
  {
   "cell_type": "code",
   "execution_count": 15,
   "id": "20fb9c70-5fda-4ac1-b106-63dbc0ed3e58",
   "metadata": {},
   "outputs": [
    {
     "data": {
      "text/plain": [
       "np.int64(276)"
      ]
     },
     "execution_count": 15,
     "metadata": {},
     "output_type": "execute_result"
    }
   ],
   "source": [
    "trt_arr.sum()"
   ]
  },
  {
   "cell_type": "code",
   "execution_count": 18,
   "id": "399d53d4-447d-411d-9881-e7664a0f4b66",
   "metadata": {},
   "outputs": [
    {
     "data": {
      "text/plain": [
       "np.int64(36288000000000000)"
      ]
     },
     "execution_count": 18,
     "metadata": {},
     "output_type": "execute_result"
    }
   ],
   "source": [
    "fst_arr.prod()"
   ]
  },
  {
   "cell_type": "code",
   "execution_count": 19,
   "id": "a1000a0c-5a68-44c5-ba56-34c910a083df",
   "metadata": {},
   "outputs": [
    {
     "data": {
      "text/plain": [
       "np.int64(36288000000000000)"
      ]
     },
     "execution_count": 19,
     "metadata": {},
     "output_type": "execute_result"
    }
   ],
   "source": [
    "scnd_arr.prod()"
   ]
  },
  {
   "cell_type": "code",
   "execution_count": 22,
   "id": "1487ecff-4bd3-4f07-a695-e9e2f186fa03",
   "metadata": {},
   "outputs": [
    {
     "data": {
      "text/plain": [
       "array([ 600, 1400, 2400, 3600, 5000])"
      ]
     },
     "execution_count": 22,
     "metadata": {},
     "output_type": "execute_result"
    }
   ],
   "source": [
    "scnd_arr.prod(axis=0)"
   ]
  },
  {
   "cell_type": "code",
   "execution_count": 33,
   "id": "4b228e81-1f0a-4ff6-9e21-73eecc2e266e",
   "metadata": {},
   "outputs": [
    {
     "data": {
      "text/plain": [
       "array([[  0,  13,  28,  45],\n",
       "       [ 64,  85, 108, 133],\n",
       "       [160, 189, 220, 253]])"
      ]
     },
     "execution_count": 33,
     "metadata": {},
     "output_type": "execute_result"
    }
   ],
   "source": [
    "trt_arr.prod(axis=0)"
   ]
  },
  {
   "cell_type": "code",
   "execution_count": 46,
   "id": "98c0ab78-f59b-4b3c-acae-5264f6082fb5",
   "metadata": {},
   "outputs": [
    {
     "data": {
      "text/plain": [
       "np.float64(50.1)"
      ]
     },
     "execution_count": 46,
     "metadata": {},
     "output_type": "execute_result"
    }
   ],
   "source": [
    "np.average(fst_arr)"
   ]
  },
  {
   "cell_type": "code",
   "execution_count": 45,
   "id": "1b7cacb3-506c-4f7a-8fd1-dcf384711540",
   "metadata": {},
   "outputs": [
    {
     "data": {
      "text/plain": [
       "np.float64(11.5)"
      ]
     },
     "execution_count": 45,
     "metadata": {},
     "output_type": "execute_result"
    }
   ],
   "source": [
    "np.average(trt_arr)"
   ]
  },
  {
   "cell_type": "code",
   "execution_count": 44,
   "id": "dea0354f-cbd0-4a2b-9147-4d78fef9417c",
   "metadata": {},
   "outputs": [
    {
     "data": {
      "text/plain": [
       "np.float64(11.5)"
      ]
     },
     "execution_count": 44,
     "metadata": {},
     "output_type": "execute_result"
    }
   ],
   "source": [
    "np.mean(trt_arr)"
   ]
  },
  {
   "cell_type": "code",
   "execution_count": 43,
   "id": "ed3a96f4-2b66-417c-8e27-c128ae82babc",
   "metadata": {},
   "outputs": [
    {
     "data": {
      "text/plain": [
       "np.float64(47.0)"
      ]
     },
     "execution_count": 43,
     "metadata": {},
     "output_type": "execute_result"
    }
   ],
   "source": [
    "np.median(fst_arr)"
   ]
  },
  {
   "cell_type": "code",
   "execution_count": 47,
   "id": "582a4a0a-0af7-42a2-b492-e17dfd51eb69",
   "metadata": {},
   "outputs": [
    {
     "data": {
      "text/plain": [
       "np.float64(50.1)"
      ]
     },
     "execution_count": 47,
     "metadata": {},
     "output_type": "execute_result"
    }
   ],
   "source": [
    "np.mean(fst_arr)"
   ]
  },
  {
   "cell_type": "code",
   "execution_count": 48,
   "id": "fd2fa4d0-58e6-4e12-9ada-d56eb0e3f0c7",
   "metadata": {},
   "outputs": [
    {
     "data": {
      "text/plain": [
       "np.float64(25.893821656912678)"
      ]
     },
     "execution_count": 48,
     "metadata": {},
     "output_type": "execute_result"
    }
   ],
   "source": [
    "np.std(fst_arr)"
   ]
  },
  {
   "cell_type": "markdown",
   "id": "e34c0166-ffd0-42b3-b5e4-e62ad4102408",
   "metadata": {},
   "source": [
    "# How to get unique items and counts"
   ]
  },
  {
   "cell_type": "code",
   "execution_count": 49,
   "id": "9ef1ce7d-610f-47e2-8c48-7f650d9b2a1e",
   "metadata": {},
   "outputs": [
    {
     "data": {
      "text/plain": [
       "array([1, 2, 3, 4, 1, 2, 2, 8, 9, 4])"
      ]
     },
     "execution_count": 49,
     "metadata": {},
     "output_type": "execute_result"
    }
   ],
   "source": [
    "# this operation ollws me to get the unique values inside the array meaning each unique element \n",
    "#also I can count their frecuenci and get the index of their fist match in the array\n",
    "\n",
    "import numpy as np\n",
    "\n",
    "arr_1D = np.array([1,2,3,4,1,2,2,8,9,4])\n",
    "arr_1D"
   ]
  },
  {
   "cell_type": "code",
   "execution_count": 51,
   "id": "5723a797-cc7b-4105-8094-da2b1947e4f6",
   "metadata": {},
   "outputs": [
    {
     "data": {
      "text/plain": [
       "array([1, 2, 3, 4, 8, 9])"
      ]
     },
     "execution_count": 51,
     "metadata": {},
     "output_type": "execute_result"
    }
   ],
   "source": [
    "np.unique(arr_1D)"
   ]
  },
  {
   "cell_type": "code",
   "execution_count": 52,
   "id": "4d43ee63-c0b3-4356-a19c-0ced3b276d1f",
   "metadata": {},
   "outputs": [
    {
     "data": {
      "text/plain": [
       "(array([1, 2, 3, 4, 8, 9]), array([0, 1, 2, 3, 7, 8]))"
      ]
     },
     "execution_count": 52,
     "metadata": {},
     "output_type": "execute_result"
    }
   ],
   "source": [
    "np.unique(arr_1D, return_index=True)"
   ]
  },
  {
   "cell_type": "code",
   "execution_count": 54,
   "id": "1957a59e-bd04-42fe-bb65-f33750c54585",
   "metadata": {},
   "outputs": [
    {
     "data": {
      "text/plain": [
       "(array([1, 2, 3, 4, 8, 9]), array([2, 3, 1, 2, 1, 1]))"
      ]
     },
     "execution_count": 54,
     "metadata": {},
     "output_type": "execute_result"
    }
   ],
   "source": [
    "np.unique(arr_1D, return_counts=True)"
   ]
  },
  {
   "cell_type": "code",
   "execution_count": 59,
   "id": "54a9a3b1-d9f0-4413-a618-55e5996fe7a0",
   "metadata": {},
   "outputs": [
    {
     "data": {
      "text/plain": [
       "array([[1, 2, 2, 4, 4],\n",
       "       [2, 3, 3, 4, 5]])"
      ]
     },
     "execution_count": 59,
     "metadata": {},
     "output_type": "execute_result"
    }
   ],
   "source": [
    "arr_2D = np.array([[1,2,2,4,4],[2,3,3,4,5]])\n",
    "arr_2D"
   ]
  },
  {
   "cell_type": "code",
   "execution_count": 60,
   "id": "f7d54410-070d-4934-bdf5-3fed5e4f82c2",
   "metadata": {},
   "outputs": [
    {
     "data": {
      "text/plain": [
       "array([[1, 2, 4, 4],\n",
       "       [2, 3, 4, 5]])"
      ]
     },
     "execution_count": 60,
     "metadata": {},
     "output_type": "execute_result"
    }
   ],
   "source": [
    "np.unique(arr_2D, axis=1)"
   ]
  },
  {
   "cell_type": "code",
   "execution_count": 61,
   "id": "92f323b6-a142-4175-8336-e1244b38f98c",
   "metadata": {},
   "outputs": [
    {
     "data": {
      "text/plain": [
       "(array([[1, 2, 4, 4],\n",
       "        [2, 3, 4, 5]]),\n",
       " array([1, 2, 1, 1]))"
      ]
     },
     "execution_count": 61,
     "metadata": {},
     "output_type": "execute_result"
    }
   ],
   "source": [
    "np.unique(arr_2D, axis=1, return_counts=True)"
   ]
  },
  {
   "cell_type": "code",
   "execution_count": 62,
   "id": "5ee26f8b-c9b1-45d1-ba0b-6bd077e328a3",
   "metadata": {},
   "outputs": [
    {
     "data": {
      "text/plain": [
       "(array([[1, 2, 4, 4],\n",
       "        [2, 3, 4, 5]]),\n",
       " array([0, 1, 3, 4]))"
      ]
     },
     "execution_count": 62,
     "metadata": {},
     "output_type": "execute_result"
    }
   ],
   "source": [
    "np.unique(arr_2D, axis=1, return_index=True)"
   ]
  },
  {
   "cell_type": "markdown",
   "id": "3b088ea0-c3b2-4ea3-a04f-2bdc27c731f5",
   "metadata": {},
   "source": [
    "# Transponse as operation"
   ]
  },
  {
   "cell_type": "code",
   "execution_count": 64,
   "id": "c7e23b66-e543-4390-9485-0ac7b63ef356",
   "metadata": {},
   "outputs": [
    {
     "data": {
      "text/plain": [
       "array([[ 0,  1,  2],\n",
       "       [ 3,  4,  5],\n",
       "       [ 6,  7,  8],\n",
       "       [ 9, 10, 11]])"
      ]
     },
     "execution_count": 64,
     "metadata": {},
     "output_type": "execute_result"
    }
   ],
   "source": [
    "# Transponce function from numpy allows me to change row by colums and biceversa\n",
    "\n",
    "import numpy as np\n",
    "arr_2D = np.arange(12).reshape(4,3)\n",
    "arr_2D"
   ]
  },
  {
   "cell_type": "code",
   "execution_count": 65,
   "id": "0cab4042-75d9-43c2-a116-f4bf5cfe51dc",
   "metadata": {},
   "outputs": [
    {
     "data": {
      "text/plain": [
       "array([[ 0,  3,  6,  9],\n",
       "       [ 1,  4,  7, 10],\n",
       "       [ 2,  5,  8, 11]])"
      ]
     },
     "execution_count": 65,
     "metadata": {},
     "output_type": "execute_result"
    }
   ],
   "source": [
    "np.transpose(arr_2D)"
   ]
  },
  {
   "cell_type": "code",
   "execution_count": 67,
   "id": "457fc52a-2842-4756-8f35-b3840eac7698",
   "metadata": {},
   "outputs": [
    {
     "data": {
      "text/plain": [
       "array([[[ 0,  1,  2,  3],\n",
       "        [ 4,  5,  6,  7],\n",
       "        [ 8,  9, 10, 11]],\n",
       "\n",
       "       [[12, 13, 14, 15],\n",
       "        [16, 17, 18, 19],\n",
       "        [20, 21, 22, 23]]])"
      ]
     },
     "execution_count": 67,
     "metadata": {},
     "output_type": "execute_result"
    }
   ],
   "source": [
    "# numpy moveaxis function this one allows me to move a specific axis to anotext specific position\n",
    "arr_3D = np.arange(24).reshape(2,3,4)\n",
    "arr_3D"
   ]
  },
  {
   "cell_type": "code",
   "execution_count": 68,
   "id": "bfbaa658-aae7-4802-a317-86af78865863",
   "metadata": {},
   "outputs": [
    {
     "data": {
      "text/plain": [
       "array([[[ 0, 12],\n",
       "        [ 1, 13],\n",
       "        [ 2, 14],\n",
       "        [ 3, 15]],\n",
       "\n",
       "       [[ 4, 16],\n",
       "        [ 5, 17],\n",
       "        [ 6, 18],\n",
       "        [ 7, 19]],\n",
       "\n",
       "       [[ 8, 20],\n",
       "        [ 9, 21],\n",
       "        [10, 22],\n",
       "        [11, 23]]])"
      ]
     },
     "execution_count": 68,
     "metadata": {},
     "output_type": "execute_result"
    }
   ],
   "source": [
    "np.moveaxis(arr_3D, 0, -1)"
   ]
  }
 ],
 "metadata": {
  "kernelspec": {
   "display_name": "Python [conda env:base] *",
   "language": "python",
   "name": "conda-base-py"
  },
  "language_info": {
   "codemirror_mode": {
    "name": "ipython",
    "version": 3
   },
   "file_extension": ".py",
   "mimetype": "text/x-python",
   "name": "python",
   "nbconvert_exporter": "python",
   "pygments_lexer": "ipython3",
   "version": "3.13.5"
  }
 },
 "nbformat": 4,
 "nbformat_minor": 5
}
