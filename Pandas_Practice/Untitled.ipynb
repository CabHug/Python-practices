{
 "cells": [
  {
   "cell_type": "code",
   "execution_count": null,
   "id": "196acff9-8104-4d2d-b976-9fabff14c6e7",
   "metadata": {},
   "outputs": [],
   "source": [
    "# Busqueda con iloc, esta funcion me permite buscar filas y columnas por indice, es un metodo de el dataframe\n"
   ]
  }
 ],
 "metadata": {
  "kernelspec": {
   "display_name": "Python [conda env:base] *",
   "language": "python",
   "name": "conda-base-py"
  },
  "language_info": {
   "codemirror_mode": {
    "name": "ipython",
    "version": 3
   },
   "file_extension": ".py",
   "mimetype": "text/x-python",
   "name": "python",
   "nbconvert_exporter": "python",
   "pygments_lexer": "ipython3",
   "version": "3.13.5"
  }
 },
 "nbformat": 4,
 "nbformat_minor": 5
}
